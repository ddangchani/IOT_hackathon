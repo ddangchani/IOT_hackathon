{
 "cells": [
  {
   "cell_type": "code",
   "execution_count": 2,
   "metadata": {},
   "outputs": [],
   "source": [
    "import pandas as pd\n",
    "import geopandas as gpd\n",
    "from tqdm import tqdm\n",
    "from datetime import datetime\n",
    "import numpy as np"
   ]
  },
  {
   "cell_type": "code",
   "execution_count": 3,
   "metadata": {},
   "outputs": [],
   "source": [
    "# area = gpd.GeoDataFrame.from_file('/Users/dangchan/Desktop/Github/IOT_hackathon/data/LSMD_ADM_SECT_UMD_11.shp', encoding='cp949') # 경로 수정\n",
    "grid = gpd.GeoDataFrame.from_file('/Users/dangchan/Desktop/Github/IOT_hackathon/Seoul_Grid') # 경로 수정"
   ]
  },
  {
   "cell_type": "code",
   "execution_count": 4,
   "metadata": {},
   "outputs": [],
   "source": [
    "# # datetime series for each row(grid)\n",
    "# dt_range = pd.date_range(start=\"2021-01-01\", end=\"2022-01-01\", freq='H')[:-1] # from 21/01/01 to 21/12/31 by hour\n",
    "# for i in tqdm(range(len(grid))):\n",
    "#     grid.dt[i] = dt_range"
   ]
  },
  {
   "cell_type": "code",
   "execution_count": 5,
   "metadata": {},
   "outputs": [],
   "source": [
    "# # Explode! (about 30s)\n",
    "# '''\n",
    "# Explode to grid(spatial) * temporal dataset(N=20244360) > about 460 MB\n",
    "# '''\n",
    "# grid_new = grid.explode('dt')\n",
    "# grid_new = grid_new.iloc[:,[1,2]]"
   ]
  },
  {
   "cell_type": "code",
   "execution_count": 6,
   "metadata": {},
   "outputs": [],
   "source": [
    "# # grid info to integer(0 to 2310) >> no change of memory usage!\n",
    "# import itertools\n",
    "# ls2d = [[i]*8760 for i in range(2311)]\n",
    "# ls1d = list(itertools.chain(*ls2d))\n",
    "# grid_new['geometry'] = ls1d\n",
    "# grid_new.info(verbose=False)"
   ]
  },
  {
   "cell_type": "code",
   "execution_count": 7,
   "metadata": {},
   "outputs": [],
   "source": [
    "# grid_new.to_pickle('/Users/dangchan/Desktop/Github/IOT_hackathon/data/grid_new.pkl')"
   ]
  },
  {
   "cell_type": "code",
   "execution_count": 9,
   "metadata": {},
   "outputs": [],
   "source": [
    "grid_new = pd.read_pickle('/Users/dangchan/Desktop/Github/IOT_hackathon/data/grid_new.pkl')"
   ]
  },
  {
   "cell_type": "code",
   "execution_count": 10,
   "metadata": {},
   "outputs": [
    {
     "data": {
      "text/html": [
       "<div>\n",
       "<style scoped>\n",
       "    .dataframe tbody tr th:only-of-type {\n",
       "        vertical-align: middle;\n",
       "    }\n",
       "\n",
       "    .dataframe tbody tr th {\n",
       "        vertical-align: top;\n",
       "    }\n",
       "\n",
       "    .dataframe thead th {\n",
       "        text-align: right;\n",
       "    }\n",
       "</style>\n",
       "<table border=\"1\" class=\"dataframe\">\n",
       "  <thead>\n",
       "    <tr style=\"text-align: right;\">\n",
       "      <th></th>\n",
       "      <th>geometry</th>\n",
       "      <th>dt</th>\n",
       "      <th>accident</th>\n",
       "    </tr>\n",
       "  </thead>\n",
       "  <tbody>\n",
       "    <tr>\n",
       "      <th>0</th>\n",
       "      <td>POLYGON ((935035.249 1950165.520, 935035.249 1...</td>\n",
       "      <td>2021-01-01 00:00:00</td>\n",
       "      <td>0</td>\n",
       "    </tr>\n",
       "    <tr>\n",
       "      <th>0</th>\n",
       "      <td>POLYGON ((935035.249 1950165.520, 935035.249 1...</td>\n",
       "      <td>2021-01-01 01:00:00</td>\n",
       "      <td>0</td>\n",
       "    </tr>\n",
       "    <tr>\n",
       "      <th>0</th>\n",
       "      <td>POLYGON ((935035.249 1950165.520, 935035.249 1...</td>\n",
       "      <td>2021-01-01 02:00:00</td>\n",
       "      <td>0</td>\n",
       "    </tr>\n",
       "    <tr>\n",
       "      <th>0</th>\n",
       "      <td>POLYGON ((935035.249 1950165.520, 935035.249 1...</td>\n",
       "      <td>2021-01-01 03:00:00</td>\n",
       "      <td>0</td>\n",
       "    </tr>\n",
       "    <tr>\n",
       "      <th>0</th>\n",
       "      <td>POLYGON ((935035.249 1950165.520, 935035.249 1...</td>\n",
       "      <td>2021-01-01 04:00:00</td>\n",
       "      <td>0</td>\n",
       "    </tr>\n",
       "    <tr>\n",
       "      <th>...</th>\n",
       "      <td>...</td>\n",
       "      <td>...</td>\n",
       "      <td>...</td>\n",
       "    </tr>\n",
       "    <tr>\n",
       "      <th>2310</th>\n",
       "      <td>POLYGON ((971535.249 1952165.520, 971535.249 1...</td>\n",
       "      <td>2021-12-31 19:00:00</td>\n",
       "      <td>0</td>\n",
       "    </tr>\n",
       "    <tr>\n",
       "      <th>2310</th>\n",
       "      <td>POLYGON ((971535.249 1952165.520, 971535.249 1...</td>\n",
       "      <td>2021-12-31 20:00:00</td>\n",
       "      <td>0</td>\n",
       "    </tr>\n",
       "    <tr>\n",
       "      <th>2310</th>\n",
       "      <td>POLYGON ((971535.249 1952165.520, 971535.249 1...</td>\n",
       "      <td>2021-12-31 21:00:00</td>\n",
       "      <td>0</td>\n",
       "    </tr>\n",
       "    <tr>\n",
       "      <th>2310</th>\n",
       "      <td>POLYGON ((971535.249 1952165.520, 971535.249 1...</td>\n",
       "      <td>2021-12-31 22:00:00</td>\n",
       "      <td>0</td>\n",
       "    </tr>\n",
       "    <tr>\n",
       "      <th>2310</th>\n",
       "      <td>POLYGON ((971535.249 1952165.520, 971535.249 1...</td>\n",
       "      <td>2021-12-31 23:00:00</td>\n",
       "      <td>0</td>\n",
       "    </tr>\n",
       "  </tbody>\n",
       "</table>\n",
       "<p>20244360 rows × 3 columns</p>\n",
       "</div>"
      ],
      "text/plain": [
       "                                               geometry                  dt  \\\n",
       "0     POLYGON ((935035.249 1950165.520, 935035.249 1... 2021-01-01 00:00:00   \n",
       "0     POLYGON ((935035.249 1950165.520, 935035.249 1... 2021-01-01 01:00:00   \n",
       "0     POLYGON ((935035.249 1950165.520, 935035.249 1... 2021-01-01 02:00:00   \n",
       "0     POLYGON ((935035.249 1950165.520, 935035.249 1... 2021-01-01 03:00:00   \n",
       "0     POLYGON ((935035.249 1950165.520, 935035.249 1... 2021-01-01 04:00:00   \n",
       "...                                                 ...                 ...   \n",
       "2310  POLYGON ((971535.249 1952165.520, 971535.249 1... 2021-12-31 19:00:00   \n",
       "2310  POLYGON ((971535.249 1952165.520, 971535.249 1... 2021-12-31 20:00:00   \n",
       "2310  POLYGON ((971535.249 1952165.520, 971535.249 1... 2021-12-31 21:00:00   \n",
       "2310  POLYGON ((971535.249 1952165.520, 971535.249 1... 2021-12-31 22:00:00   \n",
       "2310  POLYGON ((971535.249 1952165.520, 971535.249 1... 2021-12-31 23:00:00   \n",
       "\n",
       "      accident  \n",
       "0            0  \n",
       "0            0  \n",
       "0            0  \n",
       "0            0  \n",
       "0            0  \n",
       "...        ...  \n",
       "2310         0  \n",
       "2310         0  \n",
       "2310         0  \n",
       "2310         0  \n",
       "2310         0  \n",
       "\n",
       "[20244360 rows x 3 columns]"
      ]
     },
     "execution_count": 10,
     "metadata": {},
     "output_type": "execute_result"
    }
   ],
   "source": [
    "grid_new"
   ]
  },
  {
   "cell_type": "code",
   "execution_count": 52,
   "metadata": {},
   "outputs": [],
   "source": [
    "# Merge with accident data\n",
    "df_acc = gpd.read_file('accidentdata.gpkg')\n",
    "grid_new['accident'] = 0\n",
    "\n",
    "for i in range(len(df_acc)):\n",
    "    idx = np.where(grid.geometry.contains(df_acc.geometry[i]))[0][0]\n",
    "    dt = pd.to_datetime(df_acc.datetime[i])\n",
    "    \n",
    "    "
   ]
  },
  {
   "cell_type": "code",
   "execution_count": 82,
   "metadata": {},
   "outputs": [
    {
     "data": {
      "text/plain": [
       "(array([1281]),)"
      ]
     },
     "execution_count": 82,
     "metadata": {},
     "output_type": "execute_result"
    }
   ],
   "source": [
    "np.where(grid.geometry.contains(df_acc.geometry[1]))"
   ]
  },
  {
   "cell_type": "code",
   "execution_count": 93,
   "metadata": {},
   "outputs": [
    {
     "data": {
      "text/plain": [
       "Timestamp('2021-01-01 00:00:00')"
      ]
     },
     "execution_count": 93,
     "metadata": {},
     "output_type": "execute_result"
    }
   ],
   "source": [
    "grid_new.dt[1281].iloc[0]"
   ]
  },
  {
   "cell_type": "code",
   "execution_count": 98,
   "metadata": {},
   "outputs": [
    {
     "data": {
      "text/plain": [
       "False"
      ]
     },
     "execution_count": 98,
     "metadata": {},
     "output_type": "execute_result"
    }
   ],
   "source": [
    "pd.to_datetime(df_acc.datetime[1]) in grid_new.dt[1281]"
   ]
  },
  {
   "cell_type": "code",
   "execution_count": 114,
   "metadata": {},
   "outputs": [
    {
     "data": {
      "text/plain": [
       "Timestamp('2021-01-10 16:00:00')"
      ]
     },
     "execution_count": 114,
     "metadata": {},
     "output_type": "execute_result"
    }
   ],
   "source": [
    "dt = pd.to_datetime(df_acc.datetime[1])\n",
    "dt"
   ]
  },
  {
   "cell_type": "code",
   "execution_count": 112,
   "metadata": {},
   "outputs": [
    {
     "data": {
      "text/plain": [
       "(array([232]),)"
      ]
     },
     "execution_count": 112,
     "metadata": {},
     "output_type": "execute_result"
    }
   ],
   "source": [
    "np.where(grid_new.dt[1281].values == dt)"
   ]
  },
  {
   "cell_type": "markdown",
   "metadata": {},
   "source": []
  },
  {
   "cell_type": "code",
   "execution_count": 115,
   "metadata": {},
   "outputs": [
    {
     "data": {
      "text/plain": [
       "Timestamp('2021-01-10 16:00:00')"
      ]
     },
     "execution_count": 115,
     "metadata": {},
     "output_type": "execute_result"
    }
   ],
   "source": [
    "grid_new.dt[1281].iloc[232]"
   ]
  },
  {
   "cell_type": "code",
   "execution_count": 118,
   "metadata": {},
   "outputs": [
    {
     "data": {
      "text/plain": [
       "geometry    POLYGON ((935035.24891426 1950165.51965176, 93...\n",
       "dt                                        2021-02-23 09:00:00\n",
       "accident                                                    0\n",
       "Name: 0, dtype: object"
      ]
     },
     "execution_count": 118,
     "metadata": {},
     "output_type": "execute_result"
    }
   ],
   "source": [
    "grid_new.iloc[1281,:]"
   ]
  },
  {
   "cell_type": "code",
   "execution_count": null,
   "metadata": {},
   "outputs": [],
   "source": []
  }
 ],
 "metadata": {
  "kernelspec": {
   "display_name": "Python 3.8.13 ('spatial')",
   "language": "python",
   "name": "python3"
  },
  "language_info": {
   "codemirror_mode": {
    "name": "ipython",
    "version": 3
   },
   "file_extension": ".py",
   "mimetype": "text/x-python",
   "name": "python",
   "nbconvert_exporter": "python",
   "pygments_lexer": "ipython3",
   "version": "3.8.13"
  },
  "orig_nbformat": 4,
  "vscode": {
   "interpreter": {
    "hash": "970356c564cb7e889de8bab98729c07a8b5fa078231c70c3e1e49bed73ee6f2a"
   }
  }
 },
 "nbformat": 4,
 "nbformat_minor": 2
}
