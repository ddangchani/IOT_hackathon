{
 "cells": [
  {
   "cell_type": "markdown",
   "metadata": {},
   "source": [
    "## 격자 관련 전처리\n",
    "- 앞의 주석 부분 : 격자 데이터(N=2310)의 각 격자에 1시간 간격 시계열(T=8640)을 설정\n",
    "- 사고데이터 병합하여 각 격자 * 시간에 대한 사고발생유무(accident) 변수 생성"
   ]
  },
  {
   "cell_type": "code",
   "execution_count": 1,
   "metadata": {},
   "outputs": [],
   "source": [
    "import pandas as pd\n",
    "import geopandas as gpd\n",
    "from tqdm import tqdm\n",
    "from datetime import datetime\n",
    "import numpy as np"
   ]
  },
  {
   "cell_type": "code",
   "execution_count": 6,
   "metadata": {},
   "outputs": [],
   "source": [
    "# area = gpd.GeoDataFrame.from_file('/Users/dangchan/Desktop/Github/IOT_hackathon/data/LSMD_ADM_SECT_UMD_11.shp', encoding='cp949') # 경로 수정\n",
    "grid = gpd.GeoDataFrame.from_file('/Users/dangchan/Desktop/Github/IOT_hackathon/Seoul_Grid/grid.shp') # 경로 각자 수정"
   ]
  },
  {
   "cell_type": "code",
   "execution_count": null,
   "metadata": {},
   "outputs": [],
   "source": [
    "# datetime series for each row(grid)\n",
    "dt_range = pd.date_range(start=\"2021-01-01\", end=\"2022-01-01\", freq='H')[:-1] # from 21/01/01 to 21/12/31 by hour\n",
    "for i in tqdm(range(len(grid))):\n",
    "    grid.dt[i] = dt_range"
   ]
  },
  {
   "cell_type": "code",
   "execution_count": null,
   "metadata": {},
   "outputs": [],
   "source": [
    "# Explode! (about 30s)\n",
    "'''\n",
    "Explode to grid(spatial) * temporal dataset(N=20244360) > about 460 MB\n",
    "각 격자별로 존재하는 시계열을 펼치는 과정\n",
    "'''\n",
    "grid_new = grid.explode('dt')\n",
    "grid_new = grid_new.iloc[:,[1,2]]"
   ]
  },
  {
   "cell_type": "code",
   "execution_count": null,
   "metadata": {},
   "outputs": [],
   "source": [
    "grid_new.to_pickle('grid_new.pkl') # 파일 저장용"
   ]
  },
  {
   "cell_type": "code",
   "execution_count": 3,
   "metadata": {},
   "outputs": [],
   "source": [
    "grid_new = pd.read_pickle('grid_new.pkl')"
   ]
  },
  {
   "cell_type": "code",
   "execution_count": 14,
   "metadata": {},
   "outputs": [
    {
     "name": "stderr",
     "output_type": "stream",
     "text": [
      "100%|██████████| 445/445 [00:24<00:00, 17.82it/s]\n"
     ]
    },
    {
     "data": {
      "text/html": [
       "<div>\n",
       "<style scoped>\n",
       "    .dataframe tbody tr th:only-of-type {\n",
       "        vertical-align: middle;\n",
       "    }\n",
       "\n",
       "    .dataframe tbody tr th {\n",
       "        vertical-align: top;\n",
       "    }\n",
       "\n",
       "    .dataframe thead th {\n",
       "        text-align: right;\n",
       "    }\n",
       "</style>\n",
       "<table border=\"1\" class=\"dataframe\">\n",
       "  <thead>\n",
       "    <tr style=\"text-align: right;\">\n",
       "      <th></th>\n",
       "      <th>geometry</th>\n",
       "      <th>dt</th>\n",
       "      <th>accident</th>\n",
       "    </tr>\n",
       "  </thead>\n",
       "  <tbody>\n",
       "    <tr>\n",
       "      <th>51</th>\n",
       "      <td>POLYGON ((938535.249 1951165.520, 938535.249 1...</td>\n",
       "      <td>2021-07-01 22:00:00</td>\n",
       "      <td>1</td>\n",
       "    </tr>\n",
       "    <tr>\n",
       "      <th>68</th>\n",
       "      <td>POLYGON ((939035.249 1951665.520, 939035.249 1...</td>\n",
       "      <td>2021-05-06 21:00:00</td>\n",
       "      <td>1</td>\n",
       "    </tr>\n",
       "    <tr>\n",
       "      <th>89</th>\n",
       "      <td>POLYGON ((939535.249 1952165.520, 939535.249 1...</td>\n",
       "      <td>2021-11-25 19:00:00</td>\n",
       "      <td>1</td>\n",
       "    </tr>\n",
       "    <tr>\n",
       "      <th>93</th>\n",
       "      <td>POLYGON ((939535.249 1954165.520, 939535.249 1...</td>\n",
       "      <td>2021-01-27 21:00:00</td>\n",
       "      <td>1</td>\n",
       "    </tr>\n",
       "    <tr>\n",
       "      <th>97</th>\n",
       "      <td>POLYGON ((940035.249 1943165.520, 940035.249 1...</td>\n",
       "      <td>2021-02-08 15:00:00</td>\n",
       "      <td>1</td>\n",
       "    </tr>\n",
       "  </tbody>\n",
       "</table>\n",
       "</div>"
      ],
      "text/plain": [
       "                                             geometry                  dt  \\\n",
       "51  POLYGON ((938535.249 1951165.520, 938535.249 1... 2021-07-01 22:00:00   \n",
       "68  POLYGON ((939035.249 1951665.520, 939035.249 1... 2021-05-06 21:00:00   \n",
       "89  POLYGON ((939535.249 1952165.520, 939535.249 1... 2021-11-25 19:00:00   \n",
       "93  POLYGON ((939535.249 1954165.520, 939535.249 1... 2021-01-27 21:00:00   \n",
       "97  POLYGON ((940035.249 1943165.520, 940035.249 1... 2021-02-08 15:00:00   \n",
       "\n",
       "    accident  \n",
       "51         1  \n",
       "68         1  \n",
       "89         1  \n",
       "93         1  \n",
       "97         1  "
      ]
     },
     "execution_count": 14,
     "metadata": {},
     "output_type": "execute_result"
    }
   ],
   "source": [
    "# Merge with accident data > grid_new\n",
    "df_acc = gpd.read_file('accidentdata.gpkg') # 사고 데이터셋(gpkg file)\n",
    "grid_new['accident'] = 0\n",
    "pd.set_option('mode.chained_assignment',  None) # 경고 무시용\n",
    "\n",
    "for i in tqdm(range(len(df_acc))):\n",
    "    idx = np.where(grid.geometry.contains(df_acc.geometry[i]))[0][0] # 각 사고데이터셋이 어느 격자에 포함되는지 인덱스 리턴\n",
    "    dt = pd.to_datetime(df_acc.datetime[i]) # 각 사고데이터의 사고일시\n",
    "    grid_new.loc[(grid_new.index == idx) & (grid_new.dt == dt),'accident']= 1 # 사고에 해당하는 격자 * 일시의 accident(사고유무)를 1로 변경\n",
    "\n",
    "grid_new.loc[grid_new.accident == 1].head(5) # 사고 발생한 데이터의 첫 5개 출력"
   ]
  },
  {
   "cell_type": "code",
   "execution_count": null,
   "metadata": {},
   "outputs": [],
   "source": [
    "grid_new.to_file('accidentdata_withgrid.gpkg') # 파일로 저장 (상당히 오래걸려서 패스하는게 좋을듯)"
   ]
  }
 ],
 "metadata": {
  "kernelspec": {
   "display_name": "Python 3.8.13 ('spatial')",
   "language": "python",
   "name": "python3"
  },
  "language_info": {
   "codemirror_mode": {
    "name": "ipython",
    "version": 3
   },
   "file_extension": ".py",
   "mimetype": "text/x-python",
   "name": "python",
   "nbconvert_exporter": "python",
   "pygments_lexer": "ipython3",
   "version": "3.8.13"
  },
  "orig_nbformat": 4,
  "vscode": {
   "interpreter": {
    "hash": "970356c564cb7e889de8bab98729c07a8b5fa078231c70c3e1e49bed73ee6f2a"
   }
  }
 },
 "nbformat": 4,
 "nbformat_minor": 2
}
