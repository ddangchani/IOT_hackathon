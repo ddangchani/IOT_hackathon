{
 "cells": [
  {
   "cell_type": "markdown",
   "metadata": {},
   "source": [
    "## 사고데이터 + 격자 병합하는 전처리과정"
   ]
  },
  {
   "cell_type": "code",
   "execution_count": 1,
   "metadata": {},
   "outputs": [],
   "source": [
    "import pandas as pd\n",
    "import geopandas as gpd\n",
    "from tqdm import tqdm\n",
    "from datetime import datetime\n",
    "import numpy as np"
   ]
  },
  {
   "cell_type": "code",
   "execution_count": 4,
   "metadata": {},
   "outputs": [],
   "source": [
    "# area = gpd.GeoDataFrame.from_file('/Users/dangchan/Desktop/Github/IOT_hackathon/data/LSMD_ADM_SECT_UMD_11.shp', encoding='cp949') # 경로 수정\n",
    "grid = gpd.GeoDataFrame.from_file('/Users/dangchan/Desktop/Github/IOT_hackathon/Seoul_Grid/grid.shp') # 경로 수정"
   ]
  },
  {
   "cell_type": "code",
   "execution_count": 6,
   "metadata": {},
   "outputs": [
    {
     "name": "stderr",
     "output_type": "stream",
     "text": [
      "  0%|          | 0/2311 [00:00<?, ?it/s]/var/folders/6r/ndnspf4n6n7_m8rb9bs7qdvr0000gp/T/ipykernel_19222/3780216747.py:5: SettingWithCopyWarning: \n",
      "A value is trying to be set on a copy of a slice from a DataFrame\n",
      "\n",
      "See the caveats in the documentation: https://pandas.pydata.org/pandas-docs/stable/user_guide/indexing.html#returning-a-view-versus-a-copy\n",
      "  grid.dt[i] = dt_range\n",
      "100%|██████████| 2311/2311 [00:00<00:00, 103651.10it/s]\n"
     ]
    }
   ],
   "source": [
    "# datetime series for each row(grid)\n",
    "grid['dt'] = 0\n",
    "dt_range = pd.date_range(start=\"2021-01-01\", end=\"2022-01-01\", freq='H')[:-1] # from 21/01/01 to 21/12/31 by hour\n",
    "for i in tqdm(range(len(grid))):\n",
    "    grid.dt[i] = dt_range"
   ]
  },
  {
   "cell_type": "code",
   "execution_count": 7,
   "metadata": {},
   "outputs": [],
   "source": [
    "# Explode! (about 30s)\n",
    "'''\n",
    "Explode to grid(spatial) * temporal dataset(N=20244360) > about 460 MB\n",
    "각 격자에 속한 시계열을 펼치는 과정\n",
    "'''\n",
    "grid_new = grid.explode('dt')\n",
    "grid_new = grid_new.iloc[:,[1,2]]"
   ]
  },
  {
   "cell_type": "code",
   "execution_count": 10,
   "metadata": {},
   "outputs": [
    {
     "name": "stderr",
     "output_type": "stream",
     "text": [
      "100%|██████████| 445/445 [00:25<00:00, 17.63it/s]\n"
     ]
    },
    {
     "data": {
      "text/html": [
       "<div>\n",
       "<style scoped>\n",
       "    .dataframe tbody tr th:only-of-type {\n",
       "        vertical-align: middle;\n",
       "    }\n",
       "\n",
       "    .dataframe tbody tr th {\n",
       "        vertical-align: top;\n",
       "    }\n",
       "\n",
       "    .dataframe thead th {\n",
       "        text-align: right;\n",
       "    }\n",
       "</style>\n",
       "<table border=\"1\" class=\"dataframe\">\n",
       "  <thead>\n",
       "    <tr style=\"text-align: right;\">\n",
       "      <th></th>\n",
       "      <th>geometry</th>\n",
       "      <th>dt</th>\n",
       "      <th>accident</th>\n",
       "    </tr>\n",
       "  </thead>\n",
       "  <tbody>\n",
       "    <tr>\n",
       "      <th>51</th>\n",
       "      <td>POLYGON ((938535.249 1951165.520, 938535.249 1...</td>\n",
       "      <td>2021-07-01 22:00:00</td>\n",
       "      <td>1</td>\n",
       "    </tr>\n",
       "    <tr>\n",
       "      <th>68</th>\n",
       "      <td>POLYGON ((939035.249 1951665.520, 939035.249 1...</td>\n",
       "      <td>2021-05-06 21:00:00</td>\n",
       "      <td>1</td>\n",
       "    </tr>\n",
       "    <tr>\n",
       "      <th>89</th>\n",
       "      <td>POLYGON ((939535.249 1952165.520, 939535.249 1...</td>\n",
       "      <td>2021-11-25 19:00:00</td>\n",
       "      <td>1</td>\n",
       "    </tr>\n",
       "    <tr>\n",
       "      <th>93</th>\n",
       "      <td>POLYGON ((939535.249 1954165.520, 939535.249 1...</td>\n",
       "      <td>2021-01-27 21:00:00</td>\n",
       "      <td>1</td>\n",
       "    </tr>\n",
       "    <tr>\n",
       "      <th>97</th>\n",
       "      <td>POLYGON ((940035.249 1943165.520, 940035.249 1...</td>\n",
       "      <td>2021-02-08 15:00:00</td>\n",
       "      <td>1</td>\n",
       "    </tr>\n",
       "  </tbody>\n",
       "</table>\n",
       "</div>"
      ],
      "text/plain": [
       "                                             geometry                  dt  \\\n",
       "51  POLYGON ((938535.249 1951165.520, 938535.249 1... 2021-07-01 22:00:00   \n",
       "68  POLYGON ((939035.249 1951665.520, 939035.249 1... 2021-05-06 21:00:00   \n",
       "89  POLYGON ((939535.249 1952165.520, 939535.249 1... 2021-11-25 19:00:00   \n",
       "93  POLYGON ((939535.249 1954165.520, 939535.249 1... 2021-01-27 21:00:00   \n",
       "97  POLYGON ((940035.249 1943165.520, 940035.249 1... 2021-02-08 15:00:00   \n",
       "\n",
       "    accident  \n",
       "51         1  \n",
       "68         1  \n",
       "89         1  \n",
       "93         1  \n",
       "97         1  "
      ]
     },
     "execution_count": 10,
     "metadata": {},
     "output_type": "execute_result"
    }
   ],
   "source": [
    "# Merge with accident data\n",
    "df_acc = gpd.read_file('accidentdata.gpkg')\n",
    "grid_new['accident'] = 0\n",
    "\n",
    "for i in tqdm(range(len(df_acc))):\n",
    "    idx = np.where(grid.geometry.contains(df_acc.geometry[i]))[0][0]\n",
    "    dt = pd.to_datetime(df_acc.datetime[i])\n",
    "    grid_new.loc[(grid_new.index == idx) & (grid_new.dt == dt), 'accident'] = 1 # 각 사고의 인덱스와 일시에 대응하는 행 추출하여 accident(사고유무) 변수를 1로 취함\n",
    "\n",
    "grid_new.loc[grid_new.accident == 1].head(5)\n",
    "    "
   ]
  },
  {
   "cell_type": "code",
   "execution_count": 11,
   "metadata": {},
   "outputs": [],
   "source": [
    "# 각자 파일로 저장\n",
    "grid_new.to_pickle('accident_in_grid.pkl')"
   ]
  }
 ],
 "metadata": {
  "kernelspec": {
   "display_name": "Python 3.8.13 ('spatial')",
   "language": "python",
   "name": "python3"
  },
  "language_info": {
   "codemirror_mode": {
    "name": "ipython",
    "version": 3
   },
   "file_extension": ".py",
   "mimetype": "text/x-python",
   "name": "python",
   "nbconvert_exporter": "python",
   "pygments_lexer": "ipython3",
   "version": "3.8.13"
  },
  "orig_nbformat": 4,
  "vscode": {
   "interpreter": {
    "hash": "970356c564cb7e889de8bab98729c07a8b5fa078231c70c3e1e49bed73ee6f2a"
   }
  }
 },
 "nbformat": 4,
 "nbformat_minor": 2
}
