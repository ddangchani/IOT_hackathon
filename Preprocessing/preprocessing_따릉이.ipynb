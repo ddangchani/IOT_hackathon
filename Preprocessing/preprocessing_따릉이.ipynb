{
 "cells": [
  {
   "cell_type": "markdown",
   "metadata": {},
   "source": [
    "# 따릉이 대여소 위치 처리"
   ]
  },
  {
   "cell_type": "code",
   "execution_count": 66,
   "metadata": {},
   "outputs": [],
   "source": [
    "import geopandas as gpd\n",
    "import pandas as pd\n",
    "import matplotlib.pyplot as plt\n",
    "import numpy as np\n",
    "from tqdm import tqdm"
   ]
  },
  {
   "cell_type": "code",
   "execution_count": 83,
   "metadata": {},
   "outputs": [
    {
     "data": {
      "text/html": [
       "<div>\n",
       "<style scoped>\n",
       "    .dataframe tbody tr th:only-of-type {\n",
       "        vertical-align: middle;\n",
       "    }\n",
       "\n",
       "    .dataframe tbody tr th {\n",
       "        vertical-align: top;\n",
       "    }\n",
       "\n",
       "    .dataframe thead th {\n",
       "        text-align: right;\n",
       "    }\n",
       "</style>\n",
       "<table border=\"1\" class=\"dataframe\">\n",
       "  <thead>\n",
       "    <tr style=\"text-align: right;\">\n",
       "      <th></th>\n",
       "      <th>STATN_Y</th>\n",
       "      <th>STATN_X</th>\n",
       "    </tr>\n",
       "  </thead>\n",
       "  <tbody>\n",
       "    <tr>\n",
       "      <th>0</th>\n",
       "      <td>37.532551</td>\n",
       "      <td>126.846321</td>\n",
       "    </tr>\n",
       "    <tr>\n",
       "      <th>1</th>\n",
       "      <td>37.493179</td>\n",
       "      <td>127.118546</td>\n",
       "    </tr>\n",
       "    <tr>\n",
       "      <th>2</th>\n",
       "      <td>37.499413</td>\n",
       "      <td>127.112869</td>\n",
       "    </tr>\n",
       "  </tbody>\n",
       "</table>\n",
       "</div>"
      ],
      "text/plain": [
       "     STATN_Y     STATN_X\n",
       "0  37.532551  126.846321\n",
       "1  37.493179  127.118546\n",
       "2  37.499413  127.112869"
      ]
     },
     "execution_count": 83,
     "metadata": {},
     "output_type": "execute_result"
    }
   ],
   "source": [
    "grid = gpd.read_file('/Users/dangchan/Desktop/Github/IOT_hackathon/Seoul_Grid/grid.shp')\n",
    "area = gpd.GeoDataFrame.from_file('/Users/dangchan/Desktop/Github/IOT_hackathon/data/LSMD_ADM_SECT_UMD_11.shp', encoding='cp949')\n",
    "bicycle = pd.read_csv('/Users/dangchan/Desktop/Github/IOT_hackathon/data/tripchain/TB_OPR_STATION.csv', usecols=[\"STATN_Y\",\"STATN_X\"])\n",
    "bicycle.head(3)"
   ]
  },
  {
   "cell_type": "code",
   "execution_count": 84,
   "metadata": {},
   "outputs": [],
   "source": [
    "gdf_bicycle = gpd.GeoDataFrame(geometry = gpd.points_from_xy(x = bicycle.STATN_X, y= bicycle.STATN_Y, crs='WGS84'))\n",
    "gdf_bicycle = gdf_bicycle.to_crs(epsg=5179)"
   ]
  },
  {
   "cell_type": "code",
   "execution_count": 85,
   "metadata": {},
   "outputs": [
    {
     "name": "stderr",
     "output_type": "stream",
     "text": [
      "100%|██████████| 2953/2953 [00:15<00:00, 195.11it/s]\n"
     ]
    }
   ],
   "source": [
    "# 대여소 위치 처리\n",
    "grid['bicycles'] = 0\n",
    "for i in tqdm(range(len(gdf_bicycle))):\n",
    "    idx = np.where(grid.contains(gdf_bicycle.geometry[i]))\n",
    "    if len(idx[0]) > 0 :\n",
    "        grid.loc[grid.index==idx[0][0], 'bicycles'] += 1\n"
   ]
  },
  {
   "cell_type": "code",
   "execution_count": 86,
   "metadata": {},
   "outputs": [],
   "source": [
    "grid.bicycles.to_csv('따릉이_grid.csv', index=False)"
   ]
  }
 ],
 "metadata": {
  "kernelspec": {
   "display_name": "Python 3.8.13 ('spatial')",
   "language": "python",
   "name": "python3"
  },
  "language_info": {
   "codemirror_mode": {
    "name": "ipython",
    "version": 3
   },
   "file_extension": ".py",
   "mimetype": "text/x-python",
   "name": "python",
   "nbconvert_exporter": "python",
   "pygments_lexer": "ipython3",
   "version": "3.8.13"
  },
  "orig_nbformat": 4,
  "vscode": {
   "interpreter": {
    "hash": "970356c564cb7e889de8bab98729c07a8b5fa078231c70c3e1e49bed73ee6f2a"
   }
  }
 },
 "nbformat": 4,
 "nbformat_minor": 2
}
